{
 "cells": [
  {
   "cell_type": "code",
   "execution_count": 1,
   "id": "3f907f96-c24d-4400-9a9a-5e31310c1523",
   "metadata": {},
   "outputs": [],
   "source": [
    "import pandas as pd\n",
    "import numpy as np"
   ]
  },
  {
   "cell_type": "code",
   "execution_count": 2,
   "id": "6fc1e7f7-fa06-4d24-b5f7-8bd793f33a47",
   "metadata": {},
   "outputs": [
    {
     "name": "stdout",
     "output_type": "stream",
     "text": [
      "Series:\n",
      "0    1.0\n",
      "1    3.0\n",
      "2    5.0\n",
      "3    NaN\n",
      "4    6.0\n",
      "5    8.0\n",
      "dtype: float64\n"
     ]
    }
   ],
   "source": [
    "# 1. Creating a Series and DataFrame\n",
    "s = pd.Series([1, 3, 5, np.nan, 6, 8])\n",
    "print(\"Series:\")\n",
    "print(s)"
   ]
  },
  {
   "cell_type": "code",
   "execution_count": 3,
   "id": "4add1c17-90bf-4368-90a4-771173f951e0",
   "metadata": {},
   "outputs": [
    {
     "name": "stdout",
     "output_type": "stream",
     "text": [
      "\n",
      "DataFrame:\n",
      "                   A         B         C         D\n",
      "2023-09-20  0.424333 -1.298156 -0.182134 -0.976312\n",
      "2023-09-21 -0.855736 -0.136819  0.883288 -1.445251\n",
      "2023-09-22 -0.299267 -0.360842  0.504371  1.850383\n",
      "2023-09-23  0.152077  0.500166  1.388119 -0.162375\n",
      "2023-09-24 -0.926248  0.595376 -0.861636 -0.136721\n",
      "2023-09-25  0.893599 -0.338509  1.787053  0.884113\n"
     ]
    }
   ],
   "source": [
    "dates = pd.date_range(\"20230920\", periods=6)\n",
    "df = pd.DataFrame(np.random.randn(6, 4), index=dates, columns=list(\"ABCD\"))\n",
    "print(\"\\nDataFrame:\")\n",
    "print(df)"
   ]
  },
  {
   "cell_type": "code",
   "execution_count": 4,
   "id": "73d3e9a3-f7f2-4fce-b87c-90ea100c89c8",
   "metadata": {},
   "outputs": [
    {
     "name": "stdout",
     "output_type": "stream",
     "text": [
      "\n",
      "First 5 Rows:\n",
      "                   A         B         C         D\n",
      "2023-09-20  0.424333 -1.298156 -0.182134 -0.976312\n",
      "2023-09-21 -0.855736 -0.136819  0.883288 -1.445251\n",
      "2023-09-22 -0.299267 -0.360842  0.504371  1.850383\n",
      "2023-09-23  0.152077  0.500166  1.388119 -0.162375\n",
      "2023-09-24 -0.926248  0.595376 -0.861636 -0.136721\n",
      "\n",
      "Read Headers:\n",
      "Index(['A', 'B', 'C', 'D'], dtype='object')\n",
      "\n",
      "Last 3 Rows:\n",
      "                   A         B         C         D\n",
      "2023-09-23  0.152077  0.500166  1.388119 -0.162375\n",
      "2023-09-24 -0.926248  0.595376 -0.861636 -0.136721\n",
      "2023-09-25  0.893599 -0.338509  1.787053  0.884113\n",
      "\n",
      "Index, Columns, and Values:\n",
      "DatetimeIndex(['2023-09-20', '2023-09-21', '2023-09-22', '2023-09-23',\n",
      "               '2023-09-24', '2023-09-25'],\n",
      "              dtype='datetime64[ns]', freq='D')\n",
      "Index(['A', 'B', 'C', 'D'], dtype='object')\n",
      "[[ 0.42433263 -1.29815637 -0.18213445 -0.97631204]\n",
      " [-0.85573557 -0.13681873  0.88328773 -1.4452512 ]\n",
      " [-0.29926686 -0.36084178  0.50437131  1.85038259]\n",
      " [ 0.15207668  0.50016583  1.38811871 -0.16237525]\n",
      " [-0.92624828  0.59537609 -0.86163597 -0.1367207 ]\n",
      " [ 0.89359942 -0.33850943  1.78705295  0.88411325]]\n"
     ]
    }
   ],
   "source": [
    "# 2. Viewing Data\n",
    "print(\"\\nFirst 5 Rows:\")\n",
    "print(df.head())\n",
    "\n",
    "print(\"\\nRead Headers:\")\n",
    "print(df.columns)\n",
    "\n",
    "print(\"\\nLast 3 Rows:\")\n",
    "print(df.tail(3))\n",
    "\n",
    "print(\"\\nIndex, Columns, and Values:\")\n",
    "print(df.index)\n",
    "print(df.columns)\n",
    "print(df.to_numpy())"
   ]
  },
  {
   "cell_type": "code",
   "execution_count": 5,
   "id": "2631c6f9-be69-449f-98ed-4a55b3bd2d98",
   "metadata": {},
   "outputs": [
    {
     "name": "stdout",
     "output_type": "stream",
     "text": [
      "\n",
      "Descriptive Statistics:\n",
      "              A         B         C         D\n",
      "count  6.000000  6.000000  6.000000  6.000000\n",
      "mean  -0.101874 -0.173131  0.586510  0.002306\n",
      "std    0.723770  0.688987  0.986574  1.207687\n",
      "min   -0.926248 -1.298156 -0.861636 -1.445251\n",
      "25%   -0.716618 -0.355259 -0.010508 -0.772828\n",
      "50%   -0.073595 -0.237664  0.693830 -0.149548\n",
      "75%    0.356269  0.340920  1.261911  0.628905\n",
      "max    0.893599  0.595376  1.787053  1.850383\n",
      "\n",
      "Transpose:\n",
      "   2023-09-20  2023-09-21  2023-09-22  2023-09-23  2023-09-24  2023-09-25\n",
      "A    0.424333   -0.855736   -0.299267    0.152077   -0.926248    0.893599\n",
      "B   -1.298156   -0.136819   -0.360842    0.500166    0.595376   -0.338509\n",
      "C   -0.182134    0.883288    0.504371    1.388119   -0.861636    1.787053\n",
      "D   -0.976312   -1.445251    1.850383   -0.162375   -0.136721    0.884113\n"
     ]
    }
   ],
   "source": [
    "# 3. Descriptive Statistics\n",
    "print(\"\\nDescriptive Statistics:\")\n",
    "print(df.describe())\n",
    "\n",
    "print(\"\\nTranspose:\")\n",
    "print(df.T)"
   ]
  },
  {
   "cell_type": "code",
   "execution_count": 6,
   "id": "e3262d34-15a8-460c-8c49-1f46363a092a",
   "metadata": {},
   "outputs": [
    {
     "name": "stdout",
     "output_type": "stream",
     "text": [
      "\n",
      "Sorted by Index (Columns Descending):\n",
      "                   D         C         B         A\n",
      "2023-09-20 -0.976312 -0.182134 -1.298156  0.424333\n",
      "2023-09-21 -1.445251  0.883288 -0.136819 -0.855736\n",
      "2023-09-22  1.850383  0.504371 -0.360842 -0.299267\n",
      "2023-09-23 -0.162375  1.388119  0.500166  0.152077\n",
      "2023-09-24 -0.136721 -0.861636  0.595376 -0.926248\n",
      "2023-09-25  0.884113  1.787053 -0.338509  0.893599\n",
      "\n",
      "Sorted by Values (Column 'B'):\n",
      "                   A         B         C         D\n",
      "2023-09-20  0.424333 -1.298156 -0.182134 -0.976312\n",
      "2023-09-22 -0.299267 -0.360842  0.504371  1.850383\n",
      "2023-09-25  0.893599 -0.338509  1.787053  0.884113\n",
      "2023-09-21 -0.855736 -0.136819  0.883288 -1.445251\n",
      "2023-09-23  0.152077  0.500166  1.388119 -0.162375\n",
      "2023-09-24 -0.926248  0.595376 -0.861636 -0.136721\n",
      "\n",
      "Select Column 'A':\n",
      "2023-09-20    0.424333\n",
      "2023-09-21   -0.855736\n",
      "2023-09-22   -0.299267\n",
      "2023-09-23    0.152077\n",
      "2023-09-24   -0.926248\n",
      "2023-09-25    0.893599\n",
      "Freq: D, Name: A, dtype: float64\n",
      "\n",
      "Select First 3 Rows:\n",
      "                   A         B         C         D\n",
      "2023-09-20  0.424333 -1.298156 -0.182134 -0.976312\n",
      "2023-09-21 -0.855736 -0.136819  0.883288 -1.445251\n",
      "2023-09-22 -0.299267 -0.360842  0.504371  1.850383\n",
      "\n",
      "Select Rows by Date Range:\n",
      "                   A         B         C         D\n",
      "2023-09-20  0.424333 -1.298156 -0.182134 -0.976312\n",
      "2023-09-21 -0.855736 -0.136819  0.883288 -1.445251\n",
      "2023-09-22 -0.299267 -0.360842  0.504371  1.850383\n",
      "\n",
      "Sorting by Multiple columns:\n",
      "                   A         B         C         D\n",
      "2023-09-24 -0.926248  0.595376 -0.861636 -0.136721\n",
      "2023-09-21 -0.855736 -0.136819  0.883288 -1.445251\n",
      "2023-09-22 -0.299267 -0.360842  0.504371  1.850383\n",
      "2023-09-23  0.152077  0.500166  1.388119 -0.162375\n",
      "2023-09-20  0.424333 -1.298156 -0.182134 -0.976312\n",
      "2023-09-25  0.893599 -0.338509  1.787053  0.884113\n",
      "\n",
      "New Dataframe :\n",
      "          A         B         C         D\n",
      "0  0.424333 -1.298156 -0.182134 -0.976312\n",
      "1 -0.855736 -0.136819  0.883288 -1.445251\n",
      "2 -0.299267 -0.360842  0.504371  1.850383\n",
      "3  0.152077  0.500166  1.388119 -0.162375\n",
      "4 -0.926248  0.595376 -0.861636 -0.136721\n",
      "5  0.893599 -0.338509  1.787053  0.884113\n"
     ]
    }
   ],
   "source": [
    "# 4. Sorting and Selection\n",
    "df_sorted_index = df.sort_index(axis=1, ascending=False)\n",
    "print(\"\\nSorted by Index (Columns Descending):\")\n",
    "print(df_sorted_index)\n",
    "\n",
    "df_sorted_values = df.sort_values(by=\"B\")\n",
    "print(\"\\nSorted by Values (Column 'B'):\")\n",
    "print(df_sorted_values)\n",
    "\n",
    "print(\"\\nSelect Column 'A':\")\n",
    "print(df[\"A\"])\n",
    "\n",
    "print(\"\\nSelect First 3 Rows:\")\n",
    "print(df[0:3])\n",
    "\n",
    "print(\"\\nSelect Rows by Date Range:\")\n",
    "print(df[\"20230920\":\"20230922\"])\n",
    "\n",
    "print(\"\\nSorting by Multiple columns:\")\n",
    "print(df.sort_values(['A', 'B'], ascending=[1,0]))\n",
    "\n",
    "# see the result after using the drop paramter\n",
    "new_df = df.loc[(df['A'] < 1) ]\n",
    "new_df.reset_index(drop=True, inplace=True)\n",
    "\n",
    "print(\"\\nNew Dataframe :\")\n",
    "print(new_df)"
   ]
  },
  {
   "cell_type": "code",
   "execution_count": 7,
   "id": "1453ca97-0d4b-4168-bf78-960a5a856abe",
   "metadata": {},
   "outputs": [
    {
     "name": "stdout",
     "output_type": "stream",
     "text": [
      "\n",
      "Selection by Label:\n",
      "                   A         B\n",
      "2023-09-20  0.424333 -1.298156\n",
      "2023-09-21 -0.855736 -0.136819\n",
      "2023-09-22 -0.299267 -0.360842\n",
      "2023-09-23  0.152077  0.500166\n",
      "2023-09-24 -0.926248  0.595376\n",
      "2023-09-25  0.893599 -0.338509\n",
      "\n",
      "Selection by Position:\n",
      "                   A         B\n",
      "2023-09-23  0.152077  0.500166\n",
      "2023-09-24 -0.926248  0.595376\n",
      "\n",
      "Boolean Indexing (A > 0):\n",
      "                   A         B         C         D\n",
      "2023-09-20  0.424333 -1.298156 -0.182134 -0.976312\n",
      "2023-09-23  0.152077  0.500166  1.388119 -0.162375\n",
      "2023-09-25  0.893599 -0.338509  1.787053  0.884113\n",
      "Empty DataFrame\n",
      "Columns: [A, B, C, D]\n",
      "Index: []\n",
      "\n",
      "Read Each Row:\n",
      "2023-09-20 00:00:00 0.4243326321070269\n",
      "2023-09-21 00:00:00 -0.855735565314326\n",
      "2023-09-22 00:00:00 -0.29926686375571526\n",
      "2023-09-23 00:00:00 0.1520766750200268\n",
      "2023-09-24 00:00:00 -0.9262482833170612\n",
      "2023-09-25 00:00:00 0.893599424864859\n"
     ]
    }
   ],
   "source": [
    "# 5. Selection by Label and Position\n",
    "print(\"\\nSelection by Label:\")\n",
    "print(df.loc[:, [\"A\", \"B\"]])  # All rows, Columns A and B\n",
    "\n",
    "print(\"\\nSelection by Position:\")\n",
    "print(df.iloc[3:5, 0:2])  # Rows 3-4, Columns 0-1\n",
    "\n",
    "print(\"\\nBoolean Indexing (A > 0):\")\n",
    "print(df[df[\"A\"] > 0])\n",
    "print(df.loc[df['A'] == 1])\n",
    "\n",
    "print(\"\\nRead Each Row:\")\n",
    "for index, row in df.iterrows():\n",
    "    print(index, row['A'])"
   ]
  },
  {
   "cell_type": "code",
   "execution_count": 8,
   "id": "5607ea7c-3ca4-4f9f-af62-a8878322af69",
   "metadata": {},
   "outputs": [
    {
     "name": "stdout",
     "output_type": "stream",
     "text": [
      "\n",
      "Data After Setting Values:\n",
      "                   A           B         C         D\n",
      "2023-09-20  0.000000    0.000000 -0.182134 -0.976312\n",
      "2023-09-21 -0.855736   -0.136819  0.883288 -1.445251\n",
      "2023-09-22 -0.299267   -0.360842  0.504371  1.850383\n",
      "2023-09-23  0.152077  100.000000  1.388119 -0.162375\n",
      "2023-09-24 -0.926248    0.595376 -0.861636 -0.136721\n",
      "2023-09-25  0.893599  100.000000  1.787053  0.884113\n",
      "\n",
      "Droping single column :\n",
      "                   A           B         C\n",
      "2023-09-20  0.000000    0.000000 -0.182134\n",
      "2023-09-21 -0.855736   -0.136819  0.883288\n",
      "2023-09-22 -0.299267   -0.360842  0.504371\n",
      "2023-09-23  0.152077  100.000000  1.388119\n",
      "2023-09-24 -0.926248    0.595376 -0.861636\n",
      "2023-09-25  0.893599  100.000000  1.787053\n",
      "\n",
      "Conditional Changes \n"
     ]
    }
   ],
   "source": [
    "# 6. Setting Values and Deleting Columns\n",
    "df.at[dates[0], \"A\"] = 0\n",
    "df.iat[0, 1] = 0\n",
    "df.loc[df[\"A\"] > 0, \"B\"] = 100\n",
    "print(\"\\nData After Setting Values:\")\n",
    "print(df)\n",
    "\n",
    "print(\"\\nDroping single column :\")\n",
    "print(df.drop(columns=['D']))\n",
    "\n",
    "print(\"\\nConditional Changes \")\n",
    "# df.loc[df['A'] <= 1, ['B','C']] = ['say1', 'say2']\n",
    "# print(df)"
   ]
  },
  {
   "cell_type": "code",
   "execution_count": 9,
   "id": "f5138fe2-e6b0-417f-9a11-3216e6b42189",
   "metadata": {},
   "outputs": [
    {
     "name": "stdout",
     "output_type": "stream",
     "text": [
      "\n",
      "Data After Dropping NaNs:\n",
      "Empty DataFrame\n",
      "Columns: [A, B, C, D, E]\n",
      "Index: []\n",
      "\n",
      "Data After Filling NaNs:\n",
      "                   A           B         C         D    E\n",
      "2023-09-20  0.000000    0.000000 -0.182134 -0.976312  5.0\n",
      "2023-09-21 -0.855736   -0.136819  0.883288 -1.445251  5.0\n",
      "2023-09-22 -0.299267   -0.360842  0.504371  1.850383  5.0\n",
      "2023-09-23  0.152077  100.000000  1.388119 -0.162375  5.0\n"
     ]
    }
   ],
   "source": [
    "# 7. Handling Missing Data\n",
    "df_with_nan = df.reindex(index=dates[:4], columns=list(df.columns) + [\"E\"])\n",
    "df_with_nan.loc[dates[0]:dates[1], \"E\"] = np.nan\n",
    "\n",
    "df_dropped = df_with_nan.dropna(how=\"any\")\n",
    "print(\"\\nData After Dropping NaNs:\")\n",
    "print(df_dropped)\n",
    "\n",
    "df_filled = df_with_nan.fillna(value=5)\n",
    "print(\"\\nData After Filling NaNs:\")\n",
    "print(df_filled)\n"
   ]
  },
  {
   "cell_type": "code",
   "execution_count": 10,
   "id": "c642fee5-24ca-4e81-bb7f-bb7bbfdcae27",
   "metadata": {},
   "outputs": [
    {
     "name": "stdout",
     "output_type": "stream",
     "text": [
      "\n",
      "Column-wise Mean:\n",
      "A    -0.172596\n",
      "B    33.349619\n",
      "C     0.586510\n",
      "D     0.002306\n",
      "dtype: float64\n",
      "\n",
      "Row-wise Mean:\n",
      "2023-09-20    -0.289612\n",
      "2023-09-21    -0.388629\n",
      "2023-09-22     0.423661\n",
      "2023-09-23    25.344455\n",
      "2023-09-24    -0.332307\n",
      "2023-09-25    25.891191\n",
      "Freq: D, dtype: float64\n",
      "\n",
      "Cumulative Sum:\n",
      "                   A           B         C         D\n",
      "2023-09-20  0.000000    0.000000 -0.182134 -0.976312\n",
      "2023-09-21 -0.855736   -0.136819  0.701153 -2.421563\n",
      "2023-09-22 -1.155002   -0.497661  1.205525 -0.571181\n",
      "2023-09-23 -1.002926   99.502339  2.593643 -0.733556\n",
      "2023-09-24 -1.929174  100.097716  1.732007 -0.870277\n",
      "2023-09-25 -1.035575  200.097716  3.519060  0.013837\n",
      "\n",
      "Range (Max - Min) for Each Column:\n",
      "A      1.819848\n",
      "B    100.360842\n",
      "C      2.648689\n",
      "D      3.295634\n",
      "dtype: float64\n"
     ]
    }
   ],
   "source": [
    "# 8. Operations and Aggregations\n",
    "print(\"\\nColumn-wise Mean:\")\n",
    "print(df.mean())\n",
    "\n",
    "print(\"\\nRow-wise Mean:\")\n",
    "print(df.mean(axis=1))\n",
    "\n",
    "print(\"\\nCumulative Sum:\")\n",
    "print(df.apply(np.cumsum))\n",
    "\n",
    "print(\"\\nRange (Max - Min) for Each Column:\")\n",
    "print(df.apply(lambda x: x.max() - x.min()))"
   ]
  },
  {
   "cell_type": "code",
   "execution_count": 11,
   "id": "d93ac7ed-8964-4170-8fe7-d7dded14820a",
   "metadata": {},
   "outputs": [
    {
     "name": "stdout",
     "output_type": "stream",
     "text": [
      "\n",
      "Concatenated DataFrame:\n",
      "                   A         B         C         D\n",
      "2023-09-20  0.000000  0.000000 -0.182134 -0.976312\n",
      "2023-09-21 -0.855736 -0.136819  0.883288 -1.445251\n",
      "2023-09-20  1.000000  5.000000       NaN       NaN\n",
      "2023-09-21  2.000000  6.000000       NaN       NaN\n",
      "2023-09-22  3.000000  7.000000       NaN       NaN\n",
      "2023-09-23  4.000000  8.000000       NaN       NaN\n"
     ]
    }
   ],
   "source": [
    "# 9. Merging DataFrames\n",
    "df2 = pd.DataFrame({\"A\": [1, 2, 3, 4], \"B\": [5, 6, 7, 8]}, index=pd.date_range(\"20230920\", periods=4))\n",
    "df_concat = pd.concat([df[:2], df2])\n",
    "print(\"\\nConcatenated DataFrame:\")\n",
    "print(df_concat)"
   ]
  },
  {
   "cell_type": "code",
   "execution_count": 12,
   "id": "e49c588e-561c-4310-9ed7-023e08481c94",
   "metadata": {},
   "outputs": [
    {
     "name": "stdout",
     "output_type": "stream",
     "text": [
      "\n",
      "Grouped Data by Column 'A':\n",
      "                    B         C         D\n",
      "A                                        \n",
      "-0.926248    0.595376 -0.861636 -0.136721\n",
      "-0.855736   -0.136819  0.883288 -1.445251\n",
      "-0.299267   -0.360842  0.504371  1.850383\n",
      " 0.000000    0.000000 -0.182134 -0.976312\n",
      " 0.152077  100.000000  1.388119 -0.162375\n",
      " 0.893599  100.000000  1.787053  0.884113\n"
     ]
    }
   ],
   "source": [
    "# 10. Grouping and Aggregation\n",
    "df_grouped = df.groupby(\"A\").sum()\n",
    "print(\"\\nGrouped Data by Column 'A':\")\n",
    "print(df_grouped)"
   ]
  },
  {
   "cell_type": "code",
   "execution_count": 13,
   "id": "b89404a4-5f22-4eae-8f2f-ce7e54f791a6",
   "metadata": {},
   "outputs": [
    {
     "name": "stdout",
     "output_type": "stream",
     "text": [
      "\n",
      "Pivot Table:\n",
      "C            -0.861636  -0.182134   0.504371   0.883288   1.388119   1.787053\n",
      "B                                                                            \n",
      "-0.360842          NaN        NaN  -0.299267        NaN        NaN        NaN\n",
      "-0.136819          NaN        NaN        NaN  -0.855736        NaN        NaN\n",
      " 0.000000          NaN        0.0        NaN        NaN        NaN        NaN\n",
      " 0.595376    -0.926248        NaN        NaN        NaN        NaN        NaN\n",
      " 100.000000        NaN        NaN        NaN        NaN   0.152077   0.893599\n"
     ]
    },
    {
     "name": "stderr",
     "output_type": "stream",
     "text": [
      "C:\\Users\\saman\\AppData\\Local\\Temp\\ipykernel_16344\\3607754202.py:3: FutureWarning: The provided callable <function sum at 0x00000227E3992340> is currently using DataFrameGroupBy.sum. In a future version of pandas, the provided callable will be used directly. To keep current behavior pass the string \"sum\" instead.\n",
      "  df_pivot = df.pivot_table(values=\"A\", index=\"B\", columns=\"C\", aggfunc=np.sum)\n"
     ]
    }
   ],
   "source": [
    "# 11. Reshaping and Pivot Tables\n",
    "# Pivot tables require structured data, so let's use a simple example:\n",
    "df_pivot = df.pivot_table(values=\"A\", index=\"B\", columns=\"C\", aggfunc=np.sum)\n",
    "print(\"\\nPivot Table:\")\n",
    "print(df_pivot)"
   ]
  },
  {
   "cell_type": "code",
   "execution_count": 14,
   "id": "f4135afa-92c3-4d29-b427-f3cf62eb7cd5",
   "metadata": {},
   "outputs": [
    {
     "name": "stdout",
     "output_type": "stream",
     "text": [
      "\n",
      "Resampled Time Series (Monthly Mean):\n",
      "2023-01-31    0.010225\n",
      "2023-02-28   -0.163096\n",
      "2023-03-31    0.275010\n",
      "2023-04-30    0.198492\n",
      "2023-05-31    0.185454\n",
      "2023-06-30   -0.018611\n",
      "2023-07-31    0.140432\n",
      "2023-08-31    0.535294\n",
      "2023-09-30   -0.129691\n",
      "2023-10-31   -0.088222\n",
      "2023-11-30    0.226462\n",
      "2023-12-31    0.282080\n",
      "2024-01-31   -0.032995\n",
      "2024-02-29   -0.111480\n",
      "2024-03-31   -0.030812\n",
      "2024-04-30   -0.062409\n",
      "2024-05-31    0.037105\n",
      "2024-06-30    0.207379\n",
      "2024-07-31    0.194289\n",
      "2024-08-31   -0.206062\n",
      "2024-09-30    0.204197\n",
      "2024-10-31    0.150339\n",
      "2024-11-30    0.029845\n",
      "2024-12-31   -0.216963\n",
      "2025-01-31   -0.032727\n",
      "2025-02-28    0.240502\n",
      "2025-03-31    0.130755\n",
      "2025-04-30    0.257191\n",
      "2025-05-31    0.418135\n",
      "2025-06-30   -0.034178\n",
      "2025-07-31    0.219069\n",
      "2025-08-31   -0.057985\n",
      "2025-09-30   -0.264174\n",
      "Freq: ME, dtype: float64\n"
     ]
    },
    {
     "name": "stderr",
     "output_type": "stream",
     "text": [
      "C:\\Users\\saman\\AppData\\Local\\Temp\\ipykernel_16344\\2368078652.py:3: FutureWarning: 'M' is deprecated and will be removed in a future version, please use 'ME' instead.\n",
      "  ts_resampled = ts.resample(\"M\").mean()\n"
     ]
    }
   ],
   "source": [
    "# 12. Time Series\n",
    "ts = pd.Series(np.random.randn(1000), index=pd.date_range(\"2023-01-01\", periods=1000))\n",
    "ts_resampled = ts.resample(\"M\").mean()\n",
    "print(\"\\nResampled Time Series (Monthly Mean):\")\n",
    "print(ts_resampled)"
   ]
  },
  {
   "cell_type": "code",
   "execution_count": 15,
   "id": "a3e25cbe-035d-4ee7-8f43-833c6e7f394c",
   "metadata": {},
   "outputs": [
    {
     "name": "stdout",
     "output_type": "stream",
     "text": [
      "\n",
      "Categorical Data:\n",
      "2023-09-20     test\n",
      "2023-09-21    train\n",
      "2023-09-22     test\n",
      "2023-09-23    train\n",
      "2023-09-24     test\n",
      "2023-09-25    train\n",
      "Freq: D, Name: Category, dtype: category\n",
      "Categories (2, object): ['test', 'train']\n"
     ]
    }
   ],
   "source": [
    "# 13. Categorical Data\n",
    "df[\"Category\"] = pd.Categorical([\"test\", \"train\", \"test\", \"train\", \"test\", \"train\"])\n",
    "print(\"\\nCategorical Data:\")\n",
    "print(df[\"Category\"])"
   ]
  },
  {
   "cell_type": "code",
   "execution_count": 16,
   "id": "e6e1d610-6f74-4d56-a9f9-4e25e5a2b0f4",
   "metadata": {},
   "outputs": [
    {
     "name": "stdout",
     "output_type": "stream",
     "text": [
      "        date  value  year  month\n",
      "0 2023-01-15     10  2023      1\n",
      "1 2024-07-18     20  2024      7\n",
      "2 2025-12-25     30  2025     12\n",
      "3 2024-09-20     40  2024      9\n"
     ]
    }
   ],
   "source": [
    "# 14. Converting strings to datetime\n",
    "data = {\n",
    "    \"date\": [\"2023-01-15\", \"2024-07-18\", \"2025-12-25\", \"2024-09-20\"],\n",
    "    \"value\": [10, 20, 30, 40]\n",
    "}\n",
    "df = pd.DataFrame(data)\n",
    "df[\"date\"] = pd.to_datetime(df[\"date\"])\n",
    "\n",
    "# Extracting useful date parts\n",
    "df[\"year\"] = df[\"date\"].dt.year\n",
    "df[\"month\"] = df[\"date\"].dt.month\n",
    "print(df)"
   ]
  },
  {
   "cell_type": "code",
   "execution_count": 17,
   "id": "f4daf0ad-e1bc-471c-b33e-5815d5c5c880",
   "metadata": {},
   "outputs": [
    {
     "name": "stdout",
     "output_type": "stream",
     "text": [
      "\n",
      "Data from CSV:\n",
      "    Unnamed: 0        date  value  year  month\n",
      "0           0  2023-01-15     10  2023      1\n",
      "1           1  2024-07-18     20  2024      7\n",
      "2           2  2025-12-25     30  2025     12\n",
      "3           3  2024-09-20     40  2024      9\n",
      "\n",
      "Data from CSV:\n",
      "          date  value  year  month\n",
      "0  2023-01-15     10  2023      1\n",
      "1  2024-07-18     20  2024      7\n",
      "2  2025-12-25     30  2025     12\n",
      "3  2024-09-20     40  2024      9\n"
     ]
    }
   ],
   "source": [
    "# 15. Input and Output\n",
    "# CSV\n",
    "\n",
    "# Saving with the index column\n",
    "df.to_csv(\"output.csv\")\n",
    "df_from_csv = pd.read_csv(\"output.csv\")\n",
    "print(\"\\nData from CSV:\\n\", df_from_csv)\n",
    "\n",
    "# Saving without the index column\n",
    "df.to_csv(\"output.csv\", index=False)\n",
    "df_from_csv = pd.read_csv(\"output.csv\")\n",
    "print(\"\\nData from CSV:\\n\", df_from_csv)\n",
    "\n",
    "# For the text file\n",
    "# df.to_csv('modified.txt', index=False, sep='\\t')"
   ]
  },
  {
   "cell_type": "code",
   "execution_count": 18,
   "id": "e5cffc00-64e3-429f-a93f-261e46e59bb9",
   "metadata": {},
   "outputs": [
    {
     "name": "stdout",
     "output_type": "stream",
     "text": [
      "\n",
      "Data from Excel:\n",
      "    Unnamed: 0       date  value  year  month\n",
      "0           0 2023-01-15     10  2023      1\n",
      "1           1 2024-07-18     20  2024      7\n",
      "2           2 2025-12-25     30  2025     12\n",
      "3           3 2024-09-20     40  2024      9\n"
     ]
    }
   ],
   "source": [
    "# 16. Excel\n",
    "df.to_excel(\"output.xlsx\", sheet_name=\"Sheet1\")\n",
    "df_from_excel = pd.read_excel(\"output.xlsx\", sheet_name=\"Sheet1\")\n",
    "print(\"\\nData from Excel:\\n\", df_from_excel)"
   ]
  },
  {
   "cell_type": "code",
   "execution_count": 19,
   "id": "2c1a42ce-1532-4816-8b1e-c36bf372a421",
   "metadata": {},
   "outputs": [
    {
     "name": "stdout",
     "output_type": "stream",
     "text": [
      "\n",
      "Data from Parquet:\n",
      "         date  value  year  month\n",
      "0 2023-01-15     10  2023      1\n",
      "1 2024-07-18     20  2024      7\n",
      "2 2025-12-25     30  2025     12\n",
      "3 2024-09-20     40  2024      9\n"
     ]
    }
   ],
   "source": [
    "# 17. Parquet\n",
    "df.to_parquet(\"output.parquet\")\n",
    "df_from_parquet = pd.read_parquet(\"output.parquet\")\n",
    "print(\"\\nData from Parquet:\\n\", df_from_parquet)"
   ]
  },
  {
   "cell_type": "code",
   "execution_count": 20,
   "id": "283f263b-b30d-4471-a75c-7749e21055ab",
   "metadata": {},
   "outputs": [
    {
     "ename": "FileNotFoundError",
     "evalue": "[Errno 2] No such file or directory: 'pokemon_data.csv'",
     "output_type": "error",
     "traceback": [
      "\u001b[1;31m---------------------------------------------------------------------------\u001b[0m",
      "\u001b[1;31mFileNotFoundError\u001b[0m                         Traceback (most recent call last)",
      "Cell \u001b[1;32mIn[20], line 3\u001b[0m\n\u001b[0;32m      1\u001b[0m \u001b[38;5;66;03m# Working with large amounts of data\u001b[39;00m\n\u001b[1;32m----> 3\u001b[0m \u001b[38;5;28;01mfor\u001b[39;00m df \u001b[38;5;129;01min\u001b[39;00m \u001b[43mpd\u001b[49m\u001b[38;5;241;43m.\u001b[39;49m\u001b[43mread_csv\u001b[49m\u001b[43m(\u001b[49m\u001b[38;5;124;43m'\u001b[39;49m\u001b[38;5;124;43mpokemon_data.csv\u001b[39;49m\u001b[38;5;124;43m'\u001b[39;49m\u001b[43m,\u001b[49m\u001b[43m \u001b[49m\u001b[43mchunksize\u001b[49m\u001b[38;5;241;43m=\u001b[39;49m\u001b[38;5;241;43m5\u001b[39;49m\u001b[43m)\u001b[49m:\n\u001b[0;32m      4\u001b[0m     results \u001b[38;5;241m=\u001b[39m df\u001b[38;5;241m.\u001b[39mgroupby([\u001b[38;5;124m'\u001b[39m\u001b[38;5;124mType 1\u001b[39m\u001b[38;5;124m'\u001b[39m])\u001b[38;5;241m.\u001b[39mcount()\n\u001b[0;32m      6\u001b[0m new_df \u001b[38;5;241m=\u001b[39m pd\u001b[38;5;241m.\u001b[39mconcat([new_df, results])\n",
      "File \u001b[1;32m~\\anaconda3\\Lib\\site-packages\\pandas\\io\\parsers\\readers.py:1026\u001b[0m, in \u001b[0;36mread_csv\u001b[1;34m(filepath_or_buffer, sep, delimiter, header, names, index_col, usecols, dtype, engine, converters, true_values, false_values, skipinitialspace, skiprows, skipfooter, nrows, na_values, keep_default_na, na_filter, verbose, skip_blank_lines, parse_dates, infer_datetime_format, keep_date_col, date_parser, date_format, dayfirst, cache_dates, iterator, chunksize, compression, thousands, decimal, lineterminator, quotechar, quoting, doublequote, escapechar, comment, encoding, encoding_errors, dialect, on_bad_lines, delim_whitespace, low_memory, memory_map, float_precision, storage_options, dtype_backend)\u001b[0m\n\u001b[0;32m   1013\u001b[0m kwds_defaults \u001b[38;5;241m=\u001b[39m _refine_defaults_read(\n\u001b[0;32m   1014\u001b[0m     dialect,\n\u001b[0;32m   1015\u001b[0m     delimiter,\n\u001b[1;32m   (...)\u001b[0m\n\u001b[0;32m   1022\u001b[0m     dtype_backend\u001b[38;5;241m=\u001b[39mdtype_backend,\n\u001b[0;32m   1023\u001b[0m )\n\u001b[0;32m   1024\u001b[0m kwds\u001b[38;5;241m.\u001b[39mupdate(kwds_defaults)\n\u001b[1;32m-> 1026\u001b[0m \u001b[38;5;28;01mreturn\u001b[39;00m \u001b[43m_read\u001b[49m\u001b[43m(\u001b[49m\u001b[43mfilepath_or_buffer\u001b[49m\u001b[43m,\u001b[49m\u001b[43m \u001b[49m\u001b[43mkwds\u001b[49m\u001b[43m)\u001b[49m\n",
      "File \u001b[1;32m~\\anaconda3\\Lib\\site-packages\\pandas\\io\\parsers\\readers.py:620\u001b[0m, in \u001b[0;36m_read\u001b[1;34m(filepath_or_buffer, kwds)\u001b[0m\n\u001b[0;32m    617\u001b[0m _validate_names(kwds\u001b[38;5;241m.\u001b[39mget(\u001b[38;5;124m\"\u001b[39m\u001b[38;5;124mnames\u001b[39m\u001b[38;5;124m\"\u001b[39m, \u001b[38;5;28;01mNone\u001b[39;00m))\n\u001b[0;32m    619\u001b[0m \u001b[38;5;66;03m# Create the parser.\u001b[39;00m\n\u001b[1;32m--> 620\u001b[0m parser \u001b[38;5;241m=\u001b[39m \u001b[43mTextFileReader\u001b[49m\u001b[43m(\u001b[49m\u001b[43mfilepath_or_buffer\u001b[49m\u001b[43m,\u001b[49m\u001b[43m \u001b[49m\u001b[38;5;241;43m*\u001b[39;49m\u001b[38;5;241;43m*\u001b[39;49m\u001b[43mkwds\u001b[49m\u001b[43m)\u001b[49m\n\u001b[0;32m    622\u001b[0m \u001b[38;5;28;01mif\u001b[39;00m chunksize \u001b[38;5;129;01mor\u001b[39;00m iterator:\n\u001b[0;32m    623\u001b[0m     \u001b[38;5;28;01mreturn\u001b[39;00m parser\n",
      "File \u001b[1;32m~\\anaconda3\\Lib\\site-packages\\pandas\\io\\parsers\\readers.py:1620\u001b[0m, in \u001b[0;36mTextFileReader.__init__\u001b[1;34m(self, f, engine, **kwds)\u001b[0m\n\u001b[0;32m   1617\u001b[0m     \u001b[38;5;28mself\u001b[39m\u001b[38;5;241m.\u001b[39moptions[\u001b[38;5;124m\"\u001b[39m\u001b[38;5;124mhas_index_names\u001b[39m\u001b[38;5;124m\"\u001b[39m] \u001b[38;5;241m=\u001b[39m kwds[\u001b[38;5;124m\"\u001b[39m\u001b[38;5;124mhas_index_names\u001b[39m\u001b[38;5;124m\"\u001b[39m]\n\u001b[0;32m   1619\u001b[0m \u001b[38;5;28mself\u001b[39m\u001b[38;5;241m.\u001b[39mhandles: IOHandles \u001b[38;5;241m|\u001b[39m \u001b[38;5;28;01mNone\u001b[39;00m \u001b[38;5;241m=\u001b[39m \u001b[38;5;28;01mNone\u001b[39;00m\n\u001b[1;32m-> 1620\u001b[0m \u001b[38;5;28mself\u001b[39m\u001b[38;5;241m.\u001b[39m_engine \u001b[38;5;241m=\u001b[39m \u001b[38;5;28;43mself\u001b[39;49m\u001b[38;5;241;43m.\u001b[39;49m\u001b[43m_make_engine\u001b[49m\u001b[43m(\u001b[49m\u001b[43mf\u001b[49m\u001b[43m,\u001b[49m\u001b[43m \u001b[49m\u001b[38;5;28;43mself\u001b[39;49m\u001b[38;5;241;43m.\u001b[39;49m\u001b[43mengine\u001b[49m\u001b[43m)\u001b[49m\n",
      "File \u001b[1;32m~\\anaconda3\\Lib\\site-packages\\pandas\\io\\parsers\\readers.py:1880\u001b[0m, in \u001b[0;36mTextFileReader._make_engine\u001b[1;34m(self, f, engine)\u001b[0m\n\u001b[0;32m   1878\u001b[0m     \u001b[38;5;28;01mif\u001b[39;00m \u001b[38;5;124m\"\u001b[39m\u001b[38;5;124mb\u001b[39m\u001b[38;5;124m\"\u001b[39m \u001b[38;5;129;01mnot\u001b[39;00m \u001b[38;5;129;01min\u001b[39;00m mode:\n\u001b[0;32m   1879\u001b[0m         mode \u001b[38;5;241m+\u001b[39m\u001b[38;5;241m=\u001b[39m \u001b[38;5;124m\"\u001b[39m\u001b[38;5;124mb\u001b[39m\u001b[38;5;124m\"\u001b[39m\n\u001b[1;32m-> 1880\u001b[0m \u001b[38;5;28mself\u001b[39m\u001b[38;5;241m.\u001b[39mhandles \u001b[38;5;241m=\u001b[39m \u001b[43mget_handle\u001b[49m\u001b[43m(\u001b[49m\n\u001b[0;32m   1881\u001b[0m \u001b[43m    \u001b[49m\u001b[43mf\u001b[49m\u001b[43m,\u001b[49m\n\u001b[0;32m   1882\u001b[0m \u001b[43m    \u001b[49m\u001b[43mmode\u001b[49m\u001b[43m,\u001b[49m\n\u001b[0;32m   1883\u001b[0m \u001b[43m    \u001b[49m\u001b[43mencoding\u001b[49m\u001b[38;5;241;43m=\u001b[39;49m\u001b[38;5;28;43mself\u001b[39;49m\u001b[38;5;241;43m.\u001b[39;49m\u001b[43moptions\u001b[49m\u001b[38;5;241;43m.\u001b[39;49m\u001b[43mget\u001b[49m\u001b[43m(\u001b[49m\u001b[38;5;124;43m\"\u001b[39;49m\u001b[38;5;124;43mencoding\u001b[39;49m\u001b[38;5;124;43m\"\u001b[39;49m\u001b[43m,\u001b[49m\u001b[43m \u001b[49m\u001b[38;5;28;43;01mNone\u001b[39;49;00m\u001b[43m)\u001b[49m\u001b[43m,\u001b[49m\n\u001b[0;32m   1884\u001b[0m \u001b[43m    \u001b[49m\u001b[43mcompression\u001b[49m\u001b[38;5;241;43m=\u001b[39;49m\u001b[38;5;28;43mself\u001b[39;49m\u001b[38;5;241;43m.\u001b[39;49m\u001b[43moptions\u001b[49m\u001b[38;5;241;43m.\u001b[39;49m\u001b[43mget\u001b[49m\u001b[43m(\u001b[49m\u001b[38;5;124;43m\"\u001b[39;49m\u001b[38;5;124;43mcompression\u001b[39;49m\u001b[38;5;124;43m\"\u001b[39;49m\u001b[43m,\u001b[49m\u001b[43m \u001b[49m\u001b[38;5;28;43;01mNone\u001b[39;49;00m\u001b[43m)\u001b[49m\u001b[43m,\u001b[49m\n\u001b[0;32m   1885\u001b[0m \u001b[43m    \u001b[49m\u001b[43mmemory_map\u001b[49m\u001b[38;5;241;43m=\u001b[39;49m\u001b[38;5;28;43mself\u001b[39;49m\u001b[38;5;241;43m.\u001b[39;49m\u001b[43moptions\u001b[49m\u001b[38;5;241;43m.\u001b[39;49m\u001b[43mget\u001b[49m\u001b[43m(\u001b[49m\u001b[38;5;124;43m\"\u001b[39;49m\u001b[38;5;124;43mmemory_map\u001b[39;49m\u001b[38;5;124;43m\"\u001b[39;49m\u001b[43m,\u001b[49m\u001b[43m \u001b[49m\u001b[38;5;28;43;01mFalse\u001b[39;49;00m\u001b[43m)\u001b[49m\u001b[43m,\u001b[49m\n\u001b[0;32m   1886\u001b[0m \u001b[43m    \u001b[49m\u001b[43mis_text\u001b[49m\u001b[38;5;241;43m=\u001b[39;49m\u001b[43mis_text\u001b[49m\u001b[43m,\u001b[49m\n\u001b[0;32m   1887\u001b[0m \u001b[43m    \u001b[49m\u001b[43merrors\u001b[49m\u001b[38;5;241;43m=\u001b[39;49m\u001b[38;5;28;43mself\u001b[39;49m\u001b[38;5;241;43m.\u001b[39;49m\u001b[43moptions\u001b[49m\u001b[38;5;241;43m.\u001b[39;49m\u001b[43mget\u001b[49m\u001b[43m(\u001b[49m\u001b[38;5;124;43m\"\u001b[39;49m\u001b[38;5;124;43mencoding_errors\u001b[39;49m\u001b[38;5;124;43m\"\u001b[39;49m\u001b[43m,\u001b[49m\u001b[43m \u001b[49m\u001b[38;5;124;43m\"\u001b[39;49m\u001b[38;5;124;43mstrict\u001b[39;49m\u001b[38;5;124;43m\"\u001b[39;49m\u001b[43m)\u001b[49m\u001b[43m,\u001b[49m\n\u001b[0;32m   1888\u001b[0m \u001b[43m    \u001b[49m\u001b[43mstorage_options\u001b[49m\u001b[38;5;241;43m=\u001b[39;49m\u001b[38;5;28;43mself\u001b[39;49m\u001b[38;5;241;43m.\u001b[39;49m\u001b[43moptions\u001b[49m\u001b[38;5;241;43m.\u001b[39;49m\u001b[43mget\u001b[49m\u001b[43m(\u001b[49m\u001b[38;5;124;43m\"\u001b[39;49m\u001b[38;5;124;43mstorage_options\u001b[39;49m\u001b[38;5;124;43m\"\u001b[39;49m\u001b[43m,\u001b[49m\u001b[43m \u001b[49m\u001b[38;5;28;43;01mNone\u001b[39;49;00m\u001b[43m)\u001b[49m\u001b[43m,\u001b[49m\n\u001b[0;32m   1889\u001b[0m \u001b[43m\u001b[49m\u001b[43m)\u001b[49m\n\u001b[0;32m   1890\u001b[0m \u001b[38;5;28;01massert\u001b[39;00m \u001b[38;5;28mself\u001b[39m\u001b[38;5;241m.\u001b[39mhandles \u001b[38;5;129;01mis\u001b[39;00m \u001b[38;5;129;01mnot\u001b[39;00m \u001b[38;5;28;01mNone\u001b[39;00m\n\u001b[0;32m   1891\u001b[0m f \u001b[38;5;241m=\u001b[39m \u001b[38;5;28mself\u001b[39m\u001b[38;5;241m.\u001b[39mhandles\u001b[38;5;241m.\u001b[39mhandle\n",
      "File \u001b[1;32m~\\anaconda3\\Lib\\site-packages\\pandas\\io\\common.py:873\u001b[0m, in \u001b[0;36mget_handle\u001b[1;34m(path_or_buf, mode, encoding, compression, memory_map, is_text, errors, storage_options)\u001b[0m\n\u001b[0;32m    868\u001b[0m \u001b[38;5;28;01melif\u001b[39;00m \u001b[38;5;28misinstance\u001b[39m(handle, \u001b[38;5;28mstr\u001b[39m):\n\u001b[0;32m    869\u001b[0m     \u001b[38;5;66;03m# Check whether the filename is to be opened in binary mode.\u001b[39;00m\n\u001b[0;32m    870\u001b[0m     \u001b[38;5;66;03m# Binary mode does not support 'encoding' and 'newline'.\u001b[39;00m\n\u001b[0;32m    871\u001b[0m     \u001b[38;5;28;01mif\u001b[39;00m ioargs\u001b[38;5;241m.\u001b[39mencoding \u001b[38;5;129;01mand\u001b[39;00m \u001b[38;5;124m\"\u001b[39m\u001b[38;5;124mb\u001b[39m\u001b[38;5;124m\"\u001b[39m \u001b[38;5;129;01mnot\u001b[39;00m \u001b[38;5;129;01min\u001b[39;00m ioargs\u001b[38;5;241m.\u001b[39mmode:\n\u001b[0;32m    872\u001b[0m         \u001b[38;5;66;03m# Encoding\u001b[39;00m\n\u001b[1;32m--> 873\u001b[0m         handle \u001b[38;5;241m=\u001b[39m \u001b[38;5;28mopen\u001b[39m(\n\u001b[0;32m    874\u001b[0m             handle,\n\u001b[0;32m    875\u001b[0m             ioargs\u001b[38;5;241m.\u001b[39mmode,\n\u001b[0;32m    876\u001b[0m             encoding\u001b[38;5;241m=\u001b[39mioargs\u001b[38;5;241m.\u001b[39mencoding,\n\u001b[0;32m    877\u001b[0m             errors\u001b[38;5;241m=\u001b[39merrors,\n\u001b[0;32m    878\u001b[0m             newline\u001b[38;5;241m=\u001b[39m\u001b[38;5;124m\"\u001b[39m\u001b[38;5;124m\"\u001b[39m,\n\u001b[0;32m    879\u001b[0m         )\n\u001b[0;32m    880\u001b[0m     \u001b[38;5;28;01melse\u001b[39;00m:\n\u001b[0;32m    881\u001b[0m         \u001b[38;5;66;03m# Binary mode\u001b[39;00m\n\u001b[0;32m    882\u001b[0m         handle \u001b[38;5;241m=\u001b[39m \u001b[38;5;28mopen\u001b[39m(handle, ioargs\u001b[38;5;241m.\u001b[39mmode)\n",
      "\u001b[1;31mFileNotFoundError\u001b[0m: [Errno 2] No such file or directory: 'pokemon_data.csv'"
     ]
    }
   ],
   "source": [
    "# Working with large amounts of data\n",
    "\n",
    "for df in pd.read_csv('pokemon_data.csv', chunksize=5):\n",
    "    results = df.groupby(['Type 1']).count()\n",
    "    \n",
    "new_df = pd.concat([new_df, results])\n",
    "print(new_df)"
   ]
  },
  {
   "cell_type": "code",
   "execution_count": null,
   "id": "af7cf232-fc91-44a3-8b93-e1cc50cd14cd",
   "metadata": {},
   "outputs": [],
   "source": []
  },
  {
   "cell_type": "code",
   "execution_count": null,
   "id": "5c809b70-fb27-4597-8413-e5f485d6d190",
   "metadata": {},
   "outputs": [],
   "source": []
  },
  {
   "cell_type": "code",
   "execution_count": null,
   "id": "a9a6ce4c-2ccd-4b62-9888-a8d8a2407d25",
   "metadata": {},
   "outputs": [],
   "source": [
    "# Practice Questions "
   ]
  },
  {
   "cell_type": "code",
   "execution_count": null,
   "id": "573ea1f7-caef-44ab-850b-c3371d0168d9",
   "metadata": {},
   "outputs": [],
   "source": [
    "import pandas as pd\n",
    "df=pd.read_csv(\"pokemon_data.csv\")"
   ]
  },
  {
   "cell_type": "code",
   "execution_count": null,
   "id": "c145ad5f-f132-4807-b3eb-bc8c481f1b25",
   "metadata": {},
   "outputs": [],
   "source": [
    "# How would you check the first 5 rows of your DataFrame?\n",
    "df.head(5)"
   ]
  },
  {
   "cell_type": "code",
   "execution_count": null,
   "id": "94422340-ebe9-4a17-8d38-7a389f0766a6",
   "metadata": {},
   "outputs": [],
   "source": [
    "# How can you filter rows where the 'Type 1' column is 'Fire' and the 'Attack' is greater than 50?\n",
    "filter= df[(df[\"Type 1\"] == \"Fire\") & (df[\"Attack\"] > 50)]\n",
    "print(filter)"
   ]
  },
  {
   "cell_type": "code",
   "execution_count": null,
   "id": "1a691264-2826-4c07-b948-af2594b7b468",
   "metadata": {},
   "outputs": [],
   "source": [
    "# What function would you use to get a summary of statistics for all numeric columns (like HP, Attack, Defense, etc.)?\n",
    "df.describe()"
   ]
  },
  {
   "cell_type": "code",
   "execution_count": null,
   "id": "c93383ca-ff85-4d5f-8d15-53a22c7b0789",
   "metadata": {},
   "outputs": [],
   "source": [
    "# If there were missing values in the 'Type 2' column, how would you fill them with the string 'None'?\n",
    "df[\"Type 2\"].fillna(\"None\",inplace=True)"
   ]
  },
  {
   "cell_type": "code",
   "execution_count": null,
   "id": "0c4b1923-139d-4982-85da-ea4c2e7dccb5",
   "metadata": {},
   "outputs": [],
   "source": [
    "# How would you sort your DataFrame by 'Speed' in descending order?\n",
    "df.sort_values(\"Speed\",ascending=False)"
   ]
  },
  {
   "cell_type": "code",
   "execution_count": null,
   "id": "be5172a0-9f1d-4b7e-8866-719fa1d709e8",
   "metadata": {},
   "outputs": [],
   "source": [
    "# How can you group the data by 'Type 1' and calculate the average 'HP' for each group?\n",
    "df.groupby(by=\"Type 1\")[\"HP\"].mean()"
   ]
  },
  {
   "cell_type": "code",
   "execution_count": null,
   "id": "95940d41-544c-48ab-8888-c693244b0916",
   "metadata": {},
   "outputs": [],
   "source": [
    "# What is the best way to select only the columns 'Name', 'Type 1', and 'Speed' from the DataFrame?\n",
    "df[[\"Name\",\"Type 1\",\"Speed\"]]"
   ]
  },
  {
   "cell_type": "code",
   "execution_count": null,
   "id": "96af9f46-7a66-44d5-a3ab-42d17e6bcf2b",
   "metadata": {},
   "outputs": [],
   "source": [
    "# How would you add a new column to the DataFrame that calculates the sum of 'Attack' and 'Defense'?\n",
    "df[\"Sum\"]=df[\"Attack\"]+df[\"Defense\"]"
   ]
  },
  {
   "cell_type": "code",
   "execution_count": null,
   "id": "868d084c-abb1-47c7-9102-2e8a9c786c73",
   "metadata": {},
   "outputs": [],
   "source": [
    "# How can you find out if there are any rows where 'Legendary' is True and the 'HP' is greater than 100?\n",
    "df[(df[\"Legendary\"] == True) & (df[\"HP\"] > 100)]"
   ]
  },
  {
   "cell_type": "code",
   "execution_count": null,
   "id": "c774716e-db43-40c3-a15f-7a7729d1516e",
   "metadata": {},
   "outputs": [],
   "source": [
    "# How would you export the filtered DataFrame (with 'Type 1' = 'Water') to a CSV file?\n",
    "new_df = df[df[\"Type 1\"]==\"Water\"]\n",
    "# new_df.to_csv(\"learning.csv\")"
   ]
  },
  {
   "cell_type": "code",
   "execution_count": null,
   "id": "f55a8215-df83-43db-88be-6fb148d4e157",
   "metadata": {},
   "outputs": [],
   "source": []
  },
  {
   "cell_type": "code",
   "execution_count": null,
   "id": "33dcccde-78ee-4cd6-b1ab-9cb997c80645",
   "metadata": {},
   "outputs": [],
   "source": []
  },
  {
   "cell_type": "code",
   "execution_count": null,
   "id": "104d2d10-e8d9-4dd9-bb2a-56a9d3447bf2",
   "metadata": {},
   "outputs": [],
   "source": [
    "# Some more concepts"
   ]
  },
  {
   "cell_type": "code",
   "execution_count": null,
   "id": "00a1d61a-b2e6-485e-a95a-1f86b7530974",
   "metadata": {},
   "outputs": [],
   "source": [
    "# Merging DataFrames\n",
    "\n",
    "data2 = {\n",
    "    'Name': ['Bulbasaur', 'Ivysaur', 'Charmander'],\n",
    "    'Ability': ['Overgrow', 'Overgrow', 'Blaze']\n",
    "}\n",
    "df2 = pd.DataFrame(data2)\n",
    "\n",
    "# Merging df and df2 on 'Name' with a left join\n",
    "df_merged = df.merge(df2, on='Name', how='left')\n",
    "print(df_merged)\n"
   ]
  },
  {
   "cell_type": "code",
   "execution_count": null,
   "id": "33776ca5-0f3c-448d-a2ca-38e041a68ce4",
   "metadata": {},
   "outputs": [],
   "source": [
    "# Handling Duplicates\n",
    "\n",
    "df_unique = df.drop_duplicates(subset='Name', keep='first')\n",
    "print(df_unique)\n"
   ]
  },
  {
   "cell_type": "code",
   "execution_count": null,
   "id": "4452ad5b-4f50-4917-8f30-a01521f6ffd0",
   "metadata": {},
   "outputs": [],
   "source": [
    "# Data Transformation\n",
    "\n",
    "df['Name'] = df['Name'].apply(lambda x: x.upper())\n",
    "print(df)\n"
   ]
  },
  {
   "cell_type": "code",
   "execution_count": null,
   "id": "788a726c-a531-411f-8b51-7fa17066d5df",
   "metadata": {},
   "outputs": [],
   "source": [
    "# Pivot Tables\n",
    "\n",
    "pivot_table = df.pivot_table(values='Attack', index='Type 1', columns='Generation', aggfunc='mean')\n",
    "print(pivot_table)\n"
   ]
  },
  {
   "cell_type": "code",
   "execution_count": null,
   "id": "cf6136c2-e495-4f54-8ffd-b0e14eb27aa0",
   "metadata": {},
   "outputs": [],
   "source": [
    "# Time Series Data\n",
    "df['Date'] = pd.date_range(start='2024-01-01', periods=len(df), freq='D')\n",
    "\n",
    "# Set 'Date' as index and resample to get monthly averages of 'Speed'\n",
    "df.set_index('Date', inplace=True)\n",
    "monthly_avg_speed = df['Speed'].resample('M').mean()\n",
    "print(monthly_avg_speed)\n"
   ]
  },
  {
   "cell_type": "code",
   "execution_count": null,
   "id": "a60c0d2d-79e8-44ca-a006-44189b222bc8",
   "metadata": {},
   "outputs": [],
   "source": [
    "# Advanced Filtering\n",
    "Q1 = df['HP'].quantile(0.25)\n",
    "Q3 = df['HP'].quantile(0.75)\n",
    "IQR = Q3 - Q1\n",
    "filtered_hp = df[(df['HP'] >= (Q1 - 1.5 * IQR)) & (df['HP'] <= (Q3 + 1.5 * IQR))]\n",
    "print(filtered_hp)\n"
   ]
  },
  {
   "cell_type": "code",
   "execution_count": null,
   "id": "54f377f4-3c7e-475d-b1d1-2f0835d9b12e",
   "metadata": {},
   "outputs": [],
   "source": [
    "# Categorical Data\n",
    "df['Type 1'] = df['Type 1'].astype('category')\n",
    "df['Type 2'] = df['Type 2'].astype('category')\n",
    "\n",
    "type1_counts = df['Type 1'].value_counts()\n",
    "type2_counts = df['Type 2'].value_counts()\n",
    "print(type1_counts)\n",
    "print(type2_counts)\n"
   ]
  },
  {
   "cell_type": "code",
   "execution_count": null,
   "id": "e9d13026-e0e6-4435-aef2-5591310c190f",
   "metadata": {},
   "outputs": [],
   "source": [
    "# Combining DataFrames\n",
    "df_combined = pd.concat([df, df2], ignore_index=True)\n",
    "print(df_combined)"
   ]
  },
  {
   "cell_type": "code",
   "execution_count": null,
   "id": "b3956c81-4ae7-424b-8712-cdc2327ef0be",
   "metadata": {},
   "outputs": [],
   "source": [
    "# Handling Outliers\n",
    "Q1 = df['Speed'].quantile(0.25)\n",
    "Q3 = df['Speed'].quantile(0.75)\n",
    "IQR = Q3 - Q1\n",
    "outliers = df[(df['Speed'] < (Q1 - 1.5 * IQR)) | (df['Speed'] > (Q3 + 1.5 * IQR))]\n",
    "print(outliers)\n",
    "\n",
    "# Handling outliers by removing them\n",
    "df_no_outliers = df[~((df['Speed'] < (Q1 - 1.5 * IQR)) | (df['Speed'] > (Q3 + 1.5 * IQR)))]\n",
    "print(df_no_outliers)"
   ]
  },
  {
   "cell_type": "code",
   "execution_count": null,
   "id": "b7db74b7-2bc9-4ec9-b56a-6e019d9702a7",
   "metadata": {},
   "outputs": [],
   "source": [
    "# Data Aggregation\n",
    "legendary_count = df.groupby('Generation')['Legendary'].sum()\n",
    "print(legendary_count)"
   ]
  },
  {
   "cell_type": "code",
   "execution_count": null,
   "id": "0f005d07-b580-428c-8013-2fb84a0550b6",
   "metadata": {},
   "outputs": [],
   "source": []
  },
  {
   "cell_type": "code",
   "execution_count": null,
   "id": "40c927d5-4467-468f-b58b-07b9182a054e",
   "metadata": {},
   "outputs": [],
   "source": []
  },
  {
   "cell_type": "code",
   "execution_count": null,
   "id": "3a6a4a09-4d98-4bd4-ac17-2dab5c591f25",
   "metadata": {},
   "outputs": [],
   "source": []
  }
 ],
 "metadata": {
  "kernelspec": {
   "display_name": "Python 3 (ipykernel)",
   "language": "python",
   "name": "python3"
  },
  "language_info": {
   "codemirror_mode": {
    "name": "ipython",
    "version": 3
   },
   "file_extension": ".py",
   "mimetype": "text/x-python",
   "name": "python",
   "nbconvert_exporter": "python",
   "pygments_lexer": "ipython3",
   "version": "3.11.7"
  }
 },
 "nbformat": 4,
 "nbformat_minor": 5
}
