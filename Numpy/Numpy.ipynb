{
 "cells": [
  {
   "cell_type": "code",
   "execution_count": 2,
   "id": "f1eb2de0-619f-444e-ac6d-17869812b138",
   "metadata": {},
   "outputs": [
    {
     "name": "stdout",
     "output_type": "stream",
     "text": [
      "Arrays:\n",
      "[1 2 3]\n",
      "[[1 2]\n",
      " [3 4]]\n",
      "[[0. 0. 0.]\n",
      " [0. 0. 0.]]\n",
      "[[1. 1. 1.]\n",
      " [1. 1. 1.]\n",
      " [1. 1. 1.]]\n",
      "[[2.12199579e-314 1.20953760e-311]\n",
      " [4.80231808e-321 3.79442416e-321]]\n"
     ]
    }
   ],
   "source": [
    "import numpy as np\n",
    "\n",
    "# 1. **Creating Arrays**\n",
    "array1 = np.array([1, 2, 3])  # 1D array\n",
    "array2 = np.array([[1, 2], [3, 4]])  # 2D array\n",
    "array3 = np.zeros((2, 3))  # Array of zeros\n",
    "array4 = np.ones((3, 3))  # Array of ones\n",
    "array5 = np.empty((2, 2))  # Empty array (random values)\n",
    "\n",
    "print(\"Arrays:\")\n",
    "print(array1)\n",
    "print(array2)\n",
    "print(array3)\n",
    "print(array4)\n",
    "print(array5)"
   ]
  },
  {
   "cell_type": "code",
   "execution_count": 3,
   "id": "b64c8064-a0ea-41bd-88f0-c82308ed61e0",
   "metadata": {},
   "outputs": [
    {
     "name": "stdout",
     "output_type": "stream",
     "text": [
      "\n",
      "Array Attributes:\n",
      "Shape: (3, 5)\n",
      "Number of Dimensions: 2\n",
      "Data Type: int32\n",
      "Size: 15\n",
      "Item Size: 4\n",
      "Type: <class 'numpy.ndarray'>\n"
     ]
    }
   ],
   "source": [
    "# 2. **Array Attributes**\n",
    "a = np.arange(15).reshape(3, 5)\n",
    "print(\"\\nArray Attributes:\")\n",
    "print(\"Shape:\", a.shape)  # (3, 5)\n",
    "print(\"Number of Dimensions:\", a.ndim)  # Number of dimensions (axes)\n",
    "print(\"Data Type:\", a.dtype.name)  # Data type of elements\n",
    "print(\"Size:\", a.size)  # Total number of elements\n",
    "print(\"Item Size:\", a.itemsize)  # Size in bytes of each element\n",
    "print(\"Type:\", type(a))  # Type of array object"
   ]
  },
  {
   "cell_type": "code",
   "execution_count": 4,
   "id": "6718c506-0901-47c1-a1fe-9bc398e43d66",
   "metadata": {},
   "outputs": [
    {
     "name": "stdout",
     "output_type": "stream",
     "text": [
      "\n",
      "Array Operations:\n",
      "Original Array: [  0   1   8  27  64 125 216 343 512 729]\n",
      "Slicing (2:5): [ 8 27 64]\n",
      "Reversed Array: [729 512 343 216 125  64  27   8   1   0]\n",
      "0.0\n",
      "1.0\n",
      "2.0\n",
      "3.0\n",
      "3.9999999999999996\n",
      "5.0\n",
      "5.999999999999999\n",
      "6.999999999999999\n",
      "7.999999999999999\n",
      "8.999999999999998\n"
     ]
    }
   ],
   "source": [
    "# 3. **Creating Arrays with Specific Ranges**\n",
    "b = np.arange(10)**3  # Cubes of numbers 0-9\n",
    "print(\"\\nArray Operations:\")\n",
    "print(\"Original Array:\", b)\n",
    "print(\"Slicing (2:5):\", b[2:5])  # Slicing, elements 2 to 4\n",
    "print(\"Reversed Array:\", b[::-1])  # Reverse array\n",
    "\n",
    "# Applying functions element-wise\n",
    "for i in b:\n",
    "    print(i**(1/3))  # Cube roots"
   ]
  },
  {
   "cell_type": "code",
   "execution_count": 5,
   "id": "20e39a53-0360-4735-8505-99bbc1029fe7",
   "metadata": {},
   "outputs": [
    {
     "name": "stdout",
     "output_type": "stream",
     "text": [
      "\n",
      "Mathematical Operations:\n",
      "Exp: [1.         2.71828183 7.3890561 ]\n",
      "Sqrt: [0.         1.         1.41421356]\n",
      "Add: [2. 0. 6.]\n"
     ]
    }
   ],
   "source": [
    "# 4. **Mathematical Operations on Arrays**\n",
    "B = np.arange(3)\n",
    "C = np.array([2., -1., 4.])\n",
    "\n",
    "print(\"\\nMathematical Operations:\")\n",
    "print(\"Exp:\", np.exp(B))  # Exponential\n",
    "print(\"Sqrt:\", np.sqrt(B))  # Square root\n",
    "print(\"Add:\", np.add(B, C))  # Add arrays element-wise"
   ]
  },
  {
   "cell_type": "code",
   "execution_count": 6,
   "id": "ce99a9b8-9792-4c95-9aae-b0dc83c15fed",
   "metadata": {},
   "outputs": [
    {
     "name": "stdout",
     "output_type": "stream",
     "text": [
      "\n",
      "Aggregation Functions:\n",
      "Sum of Columns: [12 15 18 21]\n",
      "Min of Rows: [0 4 8]\n",
      "Cumulative Sum along Rows: [[ 0  1  3  6]\n",
      " [ 4  9 15 22]\n",
      " [ 8 17 27 38]]\n"
     ]
    }
   ],
   "source": [
    "# 5. **Aggregation Functions**\n",
    "b = np.arange(12).reshape(3, 4)\n",
    "\n",
    "print(\"\\nAggregation Functions:\")\n",
    "print(\"Sum of Columns:\", b.sum(axis=0))  # Sum of each column\n",
    "print(\"Min of Rows:\", b.min(axis=1))  # Min of each row\n",
    "print(\"Cumulative Sum along Rows:\", b.cumsum(axis=1))  # Cumulative sum along each row"
   ]
  },
  {
   "cell_type": "code",
   "execution_count": 7,
   "id": "983f5112-41fd-4226-854e-cd0e6b32a26e",
   "metadata": {},
   "outputs": [
    {
     "name": "stdout",
     "output_type": "stream",
     "text": [
      "\n",
      "Random Numbers and Operations:\n",
      "Random Array b: [[3.51182162 3.9504637  3.14415961]\n",
      " [3.94864945 3.31183145 3.42332645]]\n"
     ]
    }
   ],
   "source": [
    "# 6. **Random Numbers with NumPy**\n",
    "rg = np.random.default_rng(1)  # Random generator\n",
    "a = np.ones((2, 3), dtype=int)\n",
    "b = rg.random((2, 3))  # Random values between 0 and 1\n",
    "a *= 3\n",
    "b += a\n",
    "print(\"\\nRandom Numbers and Operations:\")\n",
    "print(\"Random Array b:\", b)"
   ]
  },
  {
   "cell_type": "code",
   "execution_count": 8,
   "id": "5cc63c8c-cc87-4f84-a1e1-5a400d8edf81",
   "metadata": {},
   "outputs": [
    {
     "name": "stdout",
     "output_type": "stream",
     "text": [
      "\n",
      "Array Manipulation:\n",
      "Flattened Array: [8. 4. 5. 0. 7. 5. 3. 7. 3. 4. 1. 4.]\n",
      "Reshaped Array (6x2): [[8. 4.]\n",
      " [5. 0.]\n",
      " [7. 5.]\n",
      " [3. 7.]\n",
      " [3. 4.]\n",
      " [1. 4.]]\n",
      "Resized Array: [[8. 4. 5. 0. 7. 5.]\n",
      " [3. 7. 3. 4. 1. 4.]]\n"
     ]
    }
   ],
   "source": [
    "# 7. **Array Manipulation**\n",
    "a = np.floor(10 * rg.random((3, 4)))  # Random array with values floored\n",
    "print(\"\\nArray Manipulation:\")\n",
    "print(\"Flattened Array:\", a.ravel())  # Flatten the array\n",
    "print(\"Reshaped Array (6x2):\", a.reshape(6, 2))  # Reshape the array to 6x2\n",
    "\n",
    "a.resize((2, 6))  # Resize the array in-place\n",
    "print(\"Resized Array:\", a)"
   ]
  },
  {
   "cell_type": "code",
   "execution_count": 9,
   "id": "f209eb14-b1f9-43ba-a860-74ef54cabf1d",
   "metadata": {},
   "outputs": [
    {
     "name": "stdout",
     "output_type": "stream",
     "text": [
      "\n",
      "Broadcasting Operations:\n",
      "Broadcasted Addition: [2. 0. 6.]\n"
     ]
    }
   ],
   "source": [
    "# 8. **Broadcasting (Array Operations)**\n",
    "a = np.arange(3)\n",
    "b = np.array([2., -1., 4.])\n",
    "print(\"\\nBroadcasting Operations:\")\n",
    "print(\"Broadcasted Addition:\", a + b)  # Broadcasted addition"
   ]
  },
  {
   "cell_type": "code",
   "execution_count": 10,
   "id": "db187d4e-e586-4cf0-974e-50a1145fd465",
   "metadata": {},
   "outputs": [
    {
     "name": "stdout",
     "output_type": "stream",
     "text": [
      "\n",
      "Indexing and Slicing:\n",
      "Slicing (2:5): [2 3 4]\n",
      "Every Second Element: [0 2 4 6 8]\n",
      "Multidimensional Indexing:\n",
      "Rows 1 to 2, all columns: [[10 11 12 13]\n",
      " [20 21 22 23]]\n",
      "All rows, column 1: [ 1 11 21 31 41]\n"
     ]
    }
   ],
   "source": [
    "# 9. **Indexing and Slicing**\n",
    "c = np.arange(10)\n",
    "print(\"\\nIndexing and Slicing:\")\n",
    "print(\"Slicing (2:5):\", c[2:5])  # Slicing specific elements\n",
    "print(\"Every Second Element:\", c[::2])  # Every second element\n",
    "\n",
    "d = np.fromfunction(lambda x, y: 10*x + y, (5, 4), dtype=int)\n",
    "print(\"Multidimensional Indexing:\")\n",
    "print(\"Rows 1 to 2, all columns:\", d[1:3, :])\n",
    "print(\"All rows, column 1:\", d[:, 1])"
   ]
  },
  {
   "cell_type": "code",
   "execution_count": 11,
   "id": "9e18c090-9397-4489-827b-66cbbfa6e753",
   "metadata": {},
   "outputs": [
    {
     "name": "stdout",
     "output_type": "stream",
     "text": [
      "\n",
      "Linear Algebra Operations:\n",
      "Matrix Product (A.B): [[5 4]\n",
      " [3 4]]\n",
      "Transpose of A: [[1 0]\n",
      " [1 1]]\n"
     ]
    }
   ],
   "source": [
    "# 10. **Linear Algebra Operations**\n",
    "A = np.array([[1, 1], [0, 1]])\n",
    "B = np.array([[2, 0], [3, 4]])\n",
    "print(\"\\nLinear Algebra Operations:\")\n",
    "print(\"Matrix Product (A.B):\", np.dot(A, B))  # Matrix product\n",
    "print(\"Transpose of A:\", A.T)  # Transpose of matrix A"
   ]
  },
  {
   "cell_type": "code",
   "execution_count": 12,
   "id": "bcac60bb-6fee-43a0-a33e-1251cd309d09",
   "metadata": {},
   "outputs": [
    {
     "name": "stdout",
     "output_type": "stream",
     "text": [
      "\n",
      "Statistical Functions:\n",
      "Mean: 3.5\n",
      "Median: 3.5\n",
      "Std Dev: 1.707825127659933\n"
     ]
    }
   ],
   "source": [
    "# 11. **Statistical Functions**\n",
    "data = np.array([[1, 2], [3, 4], [5, 6]])\n",
    "print(\"\\nStatistical Functions:\")\n",
    "print(\"Mean:\", np.mean(data))  # Mean of all elements\n",
    "print(\"Median:\", np.median(data))  # Median of all elements\n",
    "print(\"Std Dev:\", np.std(data))  # Standard deviation"
   ]
  },
  {
   "cell_type": "code",
   "execution_count": 13,
   "id": "9f0701d1-cd91-478e-a94f-a95a3316c188",
   "metadata": {},
   "outputs": [
    {
     "name": "stdout",
     "output_type": "stream",
     "text": [
      "\n",
      "Sorting and Searching:\n",
      "Sorted Array: [1 2 3 4]\n",
      "Sorted Indices: [1 2 0 3]\n",
      "Index of Max: 3\n",
      "Index of Min: 1\n"
     ]
    }
   ],
   "source": [
    "# 12. **Sorting and Searching**\n",
    "arr = np.array([3, 1, 2, 4])\n",
    "print(\"\\nSorting and Searching:\")\n",
    "print(\"Sorted Array:\", np.sort(arr))  # Sort the array\n",
    "print(\"Sorted Indices:\", np.argsort(arr))  # Return indices of the sorted elements\n",
    "print(\"Index of Max:\", np.argmax(arr))  # Index of the maximum value\n",
    "print(\"Index of Min:\", np.argmin(arr))  # Index of the minimum value"
   ]
  },
  {
   "cell_type": "code",
   "execution_count": 14,
   "id": "be469e8f-89a7-4b04-aa86-728ad14b9575",
   "metadata": {},
   "outputs": [
    {
     "name": "stdout",
     "output_type": "stream",
     "text": [
      "\n",
      "Element-wise Functions:\n",
      "Clipped Array: [2 2 3 4 4]\n",
      "All True: False\n",
      "Any True: True\n"
     ]
    }
   ],
   "source": [
    "# 13. **Element-wise Functions**\n",
    "arr = np.array([1, 2, 3, 4, 5])\n",
    "print(\"\\nElement-wise Functions:\")\n",
    "print(\"Clipped Array:\", np.clip(arr, 2, 4))  # Clip values outside the range [2, 4]\n",
    "\n",
    "# Logical operations\n",
    "arr2 = np.array([True, False, True])\n",
    "print(\"All True:\", np.all(arr2))  # Check if all elements are True\n",
    "print(\"Any True:\", np.any(arr2))  # Check if any element is True"
   ]
  },
  {
   "cell_type": "code",
   "execution_count": 15,
   "id": "1dd1f78c-2150-4b1b-b55e-1b855388a8bc",
   "metadata": {},
   "outputs": [
    {
     "name": "stdout",
     "output_type": "stream",
     "text": [
      "\n",
      "Advanced Array Manipulation:\n",
      "Outer Product: [[ 4  5  6]\n",
      " [ 8 10 12]\n",
      " [12 15 18]]\n",
      "Cumulative Sum: [1 3 6]\n",
      "Cumulative Product: [1 2 6]\n"
     ]
    }
   ],
   "source": [
    "# 14. **Advanced Array Manipulation**\n",
    "a = np.array([1, 2, 3])\n",
    "b = np.array([4, 5, 6])\n",
    "print(\"\\nAdvanced Array Manipulation:\")\n",
    "print(\"Outer Product:\", np.outer(a, b))  # Outer product\n",
    "print(\"Cumulative Sum:\", np.cumsum(a))  # Cumulative sum\n",
    "print(\"Cumulative Product:\", np.cumprod(a))  # Cumulative product"
   ]
  },
  {
   "cell_type": "code",
   "execution_count": 16,
   "id": "2f25c170-9354-4149-82dc-2ccf1e8440a0",
   "metadata": {},
   "outputs": [
    {
     "name": "stdout",
     "output_type": "stream",
     "text": [
      "\n",
      "Covariance and Correlation:\n",
      "Covariance Matrix: [[4. 4.]\n",
      " [4. 4.]]\n",
      "Correlation Matrix: [[1. 1.]\n",
      " [1. 1.]]\n"
     ]
    }
   ],
   "source": [
    "# 15. **Covariance and Correlation**\n",
    "data = np.array([[1, 2], [3, 4], [5, 6]])\n",
    "print(\"\\nCovariance and Correlation:\")\n",
    "print(\"Covariance Matrix:\", np.cov(data.T))  # Covariance matrix\n",
    "x = np.array([1, 2, 3, 4])\n",
    "y = np.array([5, 6, 7, 8])\n",
    "print(\"Correlation Matrix:\", np.corrcoef(x, y))  # Correlation matrix"
   ]
  },
  {
   "cell_type": "code",
   "execution_count": 17,
   "id": "4aa16327-c206-4ce8-b413-7ed6d43a58e5",
   "metadata": {},
   "outputs": [
    {
     "name": "stdout",
     "output_type": "stream",
     "text": [
      "\n",
      "Handling Missing Data:\n",
      "NaN Check: [False  True False  True False]\n",
      "Mean Ignoring NaNs: 2.0\n"
     ]
    }
   ],
   "source": [
    "# 16. **Handling Missing Data**\n",
    "arr = np.array([1, np.nan, 2, np.nan, 3])\n",
    "print(\"\\nHandling Missing Data:\")\n",
    "print(\"NaN Check:\", np.isnan(arr))  # Check for NaNs\n",
    "print(\"Mean Ignoring NaNs:\", np.nanmean(arr))  # Mean ignoring NaNs"
   ]
  },
  {
   "cell_type": "code",
   "execution_count": 18,
   "id": "fd6ca648-d262-4001-8ee3-718f037ff308",
   "metadata": {},
   "outputs": [
    {
     "name": "stdout",
     "output_type": "stream",
     "text": [
      "\n",
      "Vectorization:\n",
      "Vectorized Function: [5 7 9]\n"
     ]
    }
   ],
   "source": [
    "# 17. **Vectorization**\n",
    "def myfunc(x, y):\n",
    "    return x + y\n",
    "\n",
    "vectorized_func = np.vectorize(myfunc)\n",
    "print(\"\\nVectorization:\")\n",
    "print(\"Vectorized Function:\", vectorized_func([1, 2, 3], [4, 5, 6]))  # Apply to arrays"
   ]
  },
  {
   "cell_type": "code",
   "execution_count": 19,
   "id": "4fb400ef-7045-4d94-b2a9-b8caf278cd7f",
   "metadata": {},
   "outputs": [
    {
     "name": "stdout",
     "output_type": "stream",
     "text": [
      "\n",
      "Advanced Indexing:\n",
      "Indexed Array: [2 5 8]\n"
     ]
    }
   ],
   "source": [
    "# 18. **Advanced Indexing**\n",
    "arr = np.arange(10)\n",
    "indices = np.array([2, 5, 8])\n",
    "print(\"\\nAdvanced Indexing:\")\n",
    "print(\"Indexed Array:\", arr[indices])  # Index with an array"
   ]
  },
  {
   "cell_type": "code",
   "execution_count": 20,
   "id": "d126dd3c-0f01-4a5f-948c-82b23800ee0e",
   "metadata": {},
   "outputs": [
    {
     "name": "stdout",
     "output_type": "stream",
     "text": [
      "\n",
      "Saving and Loading Data:\n",
      "Loaded Array: [1 2 3]\n"
     ]
    }
   ],
   "source": [
    "# 19. **Saving and Loading Data**\n",
    "np.save('my_array.npy', a)\n",
    "loaded_array = np.load('my_array.npy')\n",
    "print(\"\\nSaving and Loading Data:\")\n",
    "print(\"Loaded Array:\", loaded_array)"
   ]
  },
  {
   "cell_type": "code",
   "execution_count": null,
   "id": "af88d6d1-938c-4906-9b4a-56c8d1b83192",
   "metadata": {},
   "outputs": [],
   "source": []
  },
  {
   "cell_type": "code",
   "execution_count": null,
   "id": "fbcda9cd-8636-4938-a7f4-c2dc0c844b06",
   "metadata": {},
   "outputs": [],
   "source": []
  },
  {
   "cell_type": "code",
   "execution_count": null,
   "id": "f574682d-e73e-4995-a460-77441fdbcd47",
   "metadata": {},
   "outputs": [],
   "source": []
  },
  {
   "cell_type": "code",
   "execution_count": 2,
   "id": "83659078-7146-4945-a1e1-4d5c7e81ae1b",
   "metadata": {},
   "outputs": [],
   "source": [
    "# Practice Questions"
   ]
  },
  {
   "cell_type": "code",
   "execution_count": 22,
   "id": "ef50b430-698f-4e16-9223-19b136a626cc",
   "metadata": {},
   "outputs": [
    {
     "name": "stdout",
     "output_type": "stream",
     "text": [
      "[[34 15 49 23]\n",
      " [35 37 44 19]\n",
      " [44 37 44 11]]\n",
      "392\n",
      "[44 37 49 23]\n",
      "[15 19 11]\n"
     ]
    }
   ],
   "source": [
    "# Create a 2D NumPy array of shape (3, 4) filled with random integers between 10 and 50. Find:\n",
    "\n",
    "# The sum of all elements\n",
    "# The maximum value in each column\n",
    "# The minimum value in each row\n",
    "\n",
    "import numpy as np\n",
    "import random \n",
    "\n",
    "arr=np.random.randint(10,50,size=12).reshape(3,4)\n",
    "print(arr)\n",
    "\n",
    "ad=np.sum(arr)\n",
    "print(ad)\n",
    "\n",
    "maxi=np.max(arr,axis=0)\n",
    "print(maxi)\n",
    "\n",
    "mini=np.min(arr,axis=1)\n",
    "print(mini)"
   ]
  },
  {
   "cell_type": "code",
   "execution_count": 23,
   "id": "6b21c010-a32b-4ad9-9b12-9805215c679e",
   "metadata": {},
   "outputs": [
    {
     "name": "stdout",
     "output_type": "stream",
     "text": [
      "[5 6 7 8]\n",
      "[ 3  7 11]\n",
      "[[ 6  7]\n",
      " [10 11]]\n"
     ]
    }
   ],
   "source": [
    "# arr = np.array([[1, 2, 3, 4],\n",
    "#                 [5, 6, 7, 8],\n",
    "#                 [9, 10, 11, 12]])\n",
    "\n",
    "# Extract the second row.\n",
    "# Extract the third column.\n",
    "# Extract the sub-array [[6, 7], [10, 11]].\n",
    "\n",
    "arr = np.array([[1, 2, 3, 4],\n",
    "                [5, 6, 7, 8],\n",
    "                [9, 10, 11, 12]])\n",
    "\n",
    "print(arr[1,])\n",
    "print(arr[:,2])\n",
    "sub=arr[1:3,1:3]\n",
    "print(sub)"
   ]
  },
  {
   "cell_type": "code",
   "execution_count": 24,
   "id": "0cccbdb3-5e0a-4a1c-9521-da77297f1e34",
   "metadata": {},
   "outputs": [
    {
     "name": "stdout",
     "output_type": "stream",
     "text": [
      "[5 7 9]\n",
      "[ 4 10 18]\n"
     ]
    }
   ],
   "source": [
    "# a = np.array([1, 2, 3])\n",
    "# b = np.array([4, 5, 6])\n",
    "# Add a and b element-wise.\n",
    "# Multiply each element of a by b.\n",
    "\n",
    "a = np.array([1, 2, 3])\n",
    "b = np.array([4, 5, 6])\n",
    "\n",
    "print(a+b)\n",
    "a*=b\n",
    "print(a)"
   ]
  },
  {
   "cell_type": "code",
   "execution_count": 25,
   "id": "b19c8991-9662-4ca7-be38-6d93a61c1aff",
   "metadata": {},
   "outputs": [
    {
     "name": "stdout",
     "output_type": "stream",
     "text": [
      "[[ 0  1  2  3  4]\n",
      " [ 5  6  7  8  9]\n",
      " [10 11 12 13 14]\n",
      " [15 16 17 18 19]]\n",
      "[ 1  6 11 16]\n",
      "[[ 5  6  7  8  9]\n",
      " [10 11 12 13 14]\n",
      " [15 16 17 18 19]]\n"
     ]
    }
   ],
   "source": [
    "# arr = np.arange(20).reshape(4, 5)\n",
    "# Select all elements from the second column.\n",
    "# Select all rows where the element in the first column is greater than or equal to 5.\n",
    "\n",
    "arr = np.arange(20).reshape(4, 5)\n",
    "print(arr)\n",
    "print(arr[:,1])\n",
    "print(arr[arr[:, 0] >= 5])"
   ]
  },
  {
   "cell_type": "code",
   "execution_count": 26,
   "id": "39bec3c7-f609-4919-8385-8108aeb39722",
   "metadata": {},
   "outputs": [
    {
     "data": {
      "text/plain": [
       "array([[1, 3, 5],\n",
       "       [2, 4, 6]])"
      ]
     },
     "execution_count": 26,
     "metadata": {},
     "output_type": "execute_result"
    }
   ],
   "source": [
    "# arr = np.array([1, 2, 3, 4, 5, 6])\n",
    "# Reshape it into a (2, 3) matrix.\n",
    "# Flatten the matrix back to a 1D array.\n",
    "# Transpose a reshaped version of the array into shape (3, 2).\n",
    "\n",
    "arr = np.array([1, 2, 3, 4, 5, 6])\n",
    "arr= arr.reshape(2,3)\n",
    "arr=arr.ravel()\n",
    "arr= arr.reshape(3,2).T\n",
    "arr"
   ]
  },
  {
   "cell_type": "code",
   "execution_count": null,
   "id": "1c2a25b4-137f-4189-aaa4-0ac3d3e65c1a",
   "metadata": {},
   "outputs": [],
   "source": []
  },
  {
   "cell_type": "code",
   "execution_count": null,
   "id": "e596fc42-3b2a-4498-9520-b99fa9b5b75b",
   "metadata": {},
   "outputs": [],
   "source": []
  }
 ],
 "metadata": {
  "kernelspec": {
   "display_name": "Python 3 (ipykernel)",
   "language": "python",
   "name": "python3"
  },
  "language_info": {
   "codemirror_mode": {
    "name": "ipython",
    "version": 3
   },
   "file_extension": ".py",
   "mimetype": "text/x-python",
   "name": "python",
   "nbconvert_exporter": "python",
   "pygments_lexer": "ipython3",
   "version": "3.11.7"
  }
 },
 "nbformat": 4,
 "nbformat_minor": 5
}
